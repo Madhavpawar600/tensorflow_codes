{
 "cells": [
  {
   "cell_type": "code",
   "execution_count": 1,
   "metadata": {},
   "outputs": [],
   "source": [
    "import tensorflow as tf\n",
    "import numpy as np\n",
    "import matplotlib.pyplot as plt"
   ]
  },
  {
   "cell_type": "code",
   "execution_count": 5,
   "metadata": {},
   "outputs": [
    {
     "name": "stdout",
     "output_type": "stream",
     "text": [
      "Extracting /tmp/data/train-images-idx3-ubyte.gz\n",
      "Extracting /tmp/data/train-labels-idx1-ubyte.gz\n",
      "Extracting /tmp/data/t10k-images-idx3-ubyte.gz\n",
      "Extracting /tmp/data/t10k-labels-idx1-ubyte.gz\n"
     ]
    }
   ],
   "source": [
    "from tensorflow.examples.tutorials.mnist import input_data\n",
    "mnist=input_data.read_data_sets('/tmp/data')"
   ]
  },
  {
   "cell_type": "code",
   "execution_count": 6,
   "metadata": {},
   "outputs": [],
   "source": [
    "n_inputs=28*28\n",
    "hidden1=256\n",
    "hidden2=64\n",
    "n_outputs=10"
   ]
  },
  {
   "cell_type": "code",
   "execution_count": 7,
   "metadata": {},
   "outputs": [],
   "source": [
    "#creating placeholders\n",
    "x=tf.placeholder(tf.float32,shape=(None,n_inputs),name='x')\n",
    "y=tf.placeholder(tf.int32,shape=(None),name='y')"
   ]
  },
  {
   "cell_type": "code",
   "execution_count": 8,
   "metadata": {},
   "outputs": [],
   "source": [
    "with tf.name_scope('dnn'):\n",
    "    firstlayer=tf.layers.dense(x,hidden1,name='hidden1',activation=tf.nn.relu)\n",
    "    secondlayer=tf.layers.dense(firstlayer,hidden2,name='hidden2',activation=tf.nn.relu)\n",
    "    logits=tf.layers.dense(secondlayer,n_outputs,name='output')"
   ]
  },
  {
   "cell_type": "code",
   "execution_count": 9,
   "metadata": {},
   "outputs": [],
   "source": [
    "with tf.name_scope('loss'):\n",
    "    xentropy=tf.nn.sparse_softmax_cross_entropy_with_logits(logits=logits,labels=y)\n",
    "    loss=tf.reduce_mean(xentropy,name='loss')"
   ]
  },
  {
   "cell_type": "code",
   "execution_count": 10,
   "metadata": {},
   "outputs": [],
   "source": [
    "with tf.name_scope('train'):\n",
    "    training_op=tf.train.GradientDescentOptimizer(0.01).minimize(loss)"
   ]
  },
  {
   "cell_type": "code",
   "execution_count": 11,
   "metadata": {},
   "outputs": [],
   "source": [
    "with tf.name_scope('eval'):\n",
    "    correct=tf.nn.in_top_k(logits,y,1)\n",
    "    accuracy=tf.reduce_mean(tf.cast(correct,tf.float32))"
   ]
  },
  {
   "cell_type": "code",
   "execution_count": 13,
   "metadata": {},
   "outputs": [],
   "source": [
    "init=tf.global_variables_initializer()\n",
    "saver=tf.train.Saver()"
   ]
  },
  {
   "cell_type": "code",
   "execution_count": 16,
   "metadata": {},
   "outputs": [
    {
     "name": "stdout",
     "output_type": "stream",
     "text": [
      "epochs: 0 accuracy_train: 0.921875 accuracy_test: 0.8941\n",
      "epochs: 1 accuracy_train: 0.9375 accuracy_test: 0.9127\n",
      "epochs: 2 accuracy_train: 0.90625 accuracy_test: 0.9223\n",
      "epochs: 3 accuracy_train: 0.90625 accuracy_test: 0.9251\n",
      "epochs: 4 accuracy_train: 0.953125 accuracy_test: 0.9349\n",
      "epochs: 5 accuracy_train: 0.953125 accuracy_test: 0.939\n",
      "epochs: 6 accuracy_train: 0.953125 accuracy_test: 0.9434\n",
      "epochs: 7 accuracy_train: 0.96875 accuracy_test: 0.946\n",
      "epochs: 8 accuracy_train: 0.9375 accuracy_test: 0.9494\n",
      "epochs: 9 accuracy_train: 0.96875 accuracy_test: 0.9514\n",
      "epochs: 10 accuracy_train: 0.96875 accuracy_test: 0.9542\n",
      "epochs: 11 accuracy_train: 0.9375 accuracy_test: 0.9564\n",
      "epochs: 12 accuracy_train: 0.90625 accuracy_test: 0.957\n",
      "epochs: 13 accuracy_train: 0.953125 accuracy_test: 0.9598\n",
      "epochs: 14 accuracy_train: 0.96875 accuracy_test: 0.9605\n",
      "epochs: 15 accuracy_train: 1.0 accuracy_test: 0.9623\n",
      "epochs: 16 accuracy_train: 0.96875 accuracy_test: 0.9635\n",
      "epochs: 17 accuracy_train: 0.96875 accuracy_test: 0.9637\n",
      "epochs: 18 accuracy_train: 0.96875 accuracy_test: 0.9651\n",
      "epochs: 19 accuracy_train: 0.984375 accuracy_test: 0.966\n",
      "epochs: 20 accuracy_train: 0.96875 accuracy_test: 0.9665\n",
      "epochs: 21 accuracy_train: 0.96875 accuracy_test: 0.9673\n",
      "epochs: 22 accuracy_train: 0.984375 accuracy_test: 0.9668\n",
      "epochs: 23 accuracy_train: 0.984375 accuracy_test: 0.968\n",
      "epochs: 24 accuracy_train: 0.96875 accuracy_test: 0.9687\n",
      "epochs: 25 accuracy_train: 0.96875 accuracy_test: 0.9692\n",
      "epochs: 26 accuracy_train: 0.984375 accuracy_test: 0.9699\n",
      "epochs: 27 accuracy_train: 1.0 accuracy_test: 0.9705\n",
      "epochs: 28 accuracy_train: 0.984375 accuracy_test: 0.97\n",
      "epochs: 29 accuracy_train: 0.953125 accuracy_test: 0.9716\n",
      "epochs: 30 accuracy_train: 0.984375 accuracy_test: 0.9709\n",
      "epochs: 31 accuracy_train: 0.984375 accuracy_test: 0.9712\n",
      "epochs: 32 accuracy_train: 0.984375 accuracy_test: 0.9724\n",
      "epochs: 33 accuracy_train: 0.984375 accuracy_test: 0.9729\n",
      "epochs: 34 accuracy_train: 0.984375 accuracy_test: 0.9732\n",
      "epochs: 35 accuracy_train: 1.0 accuracy_test: 0.9739\n",
      "epochs: 36 accuracy_train: 0.984375 accuracy_test: 0.9736\n",
      "epochs: 37 accuracy_train: 0.984375 accuracy_test: 0.974\n",
      "epochs: 38 accuracy_train: 0.96875 accuracy_test: 0.9748\n",
      "epochs: 39 accuracy_train: 0.953125 accuracy_test: 0.9742\n"
     ]
    }
   ],
   "source": [
    "#train a model\n",
    "n_epochs=40\n",
    "batch_size=64\n",
    "n_batches=mnist.train.num_examples//batch_size\n",
    "acc_tr=[]\n",
    "acc_ts=[]\n",
    "\n",
    "with tf.Session() as sess:\n",
    "    init.run()\n",
    "    for epoch in range(n_epochs):\n",
    "        for i in range(n_batches):\n",
    "            xbatch,ybatch=mnist.train.next_batch(batch_size)\n",
    "            sess.run(training_op,feed_dict={x:xbatch,y:ybatch})\n",
    "        \n",
    "        acc_train=accuracy.eval(feed_dict={x:xbatch,y:ybatch})\n",
    "        acc_test=accuracy.eval(feed_dict={x:mnist.test.images,y:mnist.test.labels})\n",
    "        acc_tr.append(acc_train)\n",
    "        acc_ts.append(acc_test)\n",
    "        print('epochs:',epoch,'accuracy_train:',acc_train,\"accuracy_test:\",acc_test)\n",
    "    "
   ]
  },
  {
   "cell_type": "code",
   "execution_count": 22,
   "metadata": {},
   "outputs": [
    {
     "data": {
      "text/plain": [
       "[<matplotlib.lines.Line2D at 0x7ff365b19860>]"
      ]
     },
     "execution_count": 22,
     "metadata": {},
     "output_type": "execute_result"
    },
    {
     "data": {
      "image/png": "[encoded data removed]",
      "text/plain": [
       "<matplotlib.figure.Figure at 0x7ff365b19a58>"
      ]
     },
     "metadata": {},
     "output_type": "display_data"
    }
   ],
   "source": [
    "plt.plot(acc_tr,color='red')\n",
    "plt.plot(acc_ts,color='blue')"
   ]
  },
  {
   "cell_type": "code",
   "execution_count": null,
   "metadata": {},
   "outputs": [],
   "source": []
  }
 ],
 "metadata": {
  "kernelspec": {
   "display_name": "Python 3",
   "language": "python",
   "name": "python3"
  },
  "language_info": {
   "codemirror_mode": {
    "name": "ipython",
    "version": 3
   },
   "file_extension": ".py",
   "mimetype": "text/x-python",
   "name": "python",
   "nbconvert_exporter": "python",
   "pygments_lexer": "ipython3",
   "version": "3.5.2"
  }
 },
 "nbformat": 4,
 "nbformat_minor": 2
}
